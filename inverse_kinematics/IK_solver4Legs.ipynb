{
 "cells": [
  {
   "cell_type": "code",
   "execution_count": null,
   "metadata": {
    "id": "GSRri2CbXftO"
   },
   "outputs": [],
   "source": [
    "import numpy as np"
   ]
  },
  {
   "cell_type": "markdown",
   "metadata": {
    "id": "Bmb6GCWDUs2o"
   },
   "source": [
    "# Coefficents"
   ]
  },
  {
   "cell_type": "code",
   "execution_count": null,
   "metadata": {
    "id": "h7oq_uCCUokS"
   },
   "outputs": [],
   "source": [
    "a_SFR = 0\n",
    "b_SFR = 7.527\n",
    "c_SFR = 597.6\n",
    "coefficents_SFR = np.array([a_SFR, b_SFR, c_SFR])\n",
    "\n",
    "a_FFR = 0\n",
    "b_FFR = 7.682\n",
    "c_FFR = 578.142\n",
    "coefficents_FFR = np.array([a_FFR, b_FFR, c_FFR])\n",
    "\n",
    "a_TFR = 0\n",
    "b_TFR = 7.314\n",
    "c_TFR = 619.028\n",
    "coefficents_TFR = np.array([a_TFR, b_TFR, c_TFR])\n",
    "#------------------------\n",
    "\n",
    "a_SFL = 0\n",
    "b_SFL = 7.493\n",
    "c_SFL = 588.142\n",
    "coefficents_SFL = np.array([a_SFL, b_SFL, c_SFL])\n",
    "\n",
    "a_FFL = 0\n",
    "b_FFL = 7.603\n",
    "c_FFL = 625.428\n",
    "coefficents_FFL = np.array([a_FFL, b_FFL, c_FFL])\n",
    "\n",
    "a_TFL = 0.001\n",
    "b_TFL = 7.233\n",
    "c_TFL = 549.999\n",
    "coefficents_TFL = np.array([a_TFL, b_TFL, c_TFL])\n",
    "\n",
    "#------------------------\n",
    "\n",
    "a_SBR = 0.001\n",
    "b_SBR = 7.387\n",
    "c_SBR = 584.285\n",
    "coefficents_SBR = np.array([a_SBR, b_SBR, c_SBR])\n",
    "\n",
    "a_FBR = 0.001\n",
    "b_FBR = 7.364\n",
    "c_FBR = 548.742\n",
    "coefficents_FBR = np.array([a_FBR, b_FBR, c_FBR])\n",
    "\n",
    "a_TBR = 0.001\n",
    "b_TBR = 7.137\n",
    "c_TBR = 559.2\n",
    "coefficents_TBR = np.array([a_TBR, b_TBR, c_TBR])\n",
    "\n",
    "#------------------------\n",
    "\n",
    "a_SBL = 0\n",
    "b_SBL = 7.384\n",
    "c_SBL = 614.857\n",
    "coefficents_SBL = np.array([a_SBL, b_SBL, c_SBL])\n",
    "\n",
    "a_FBL = 0\n",
    "b_FBL = 7.704\n",
    "c_FBL = 628.142\n",
    "coefficents_FBL = np.array([a_FBL, b_FBL, c_FBL])\n",
    "\n",
    "a_TBL = -0.001\n",
    "b_TBL = 7.765\n",
    "c_TBL = 634.285\n",
    "coefficents_TBL = np.array([a_TBL, b_TBL, c_TBL])"
   ]
  },
  {
   "cell_type": "markdown",
   "metadata": {
    "id": "taDpPQk9UwQI"
   },
   "source": [
    "# Robots Dimentions"
   ]
  },
  {
   "cell_type": "code",
   "execution_count": null,
   "metadata": {
    "id": "ll34MvruVI-g"
   },
   "outputs": [],
   "source": [
    "# in cm\n",
    "coxa = 3.1 # from shoulder servo to the 2 other servos in the shoulder\n",
    "femur = 9.5 # from top sevo to knee\n",
    "tibia = 9.8 # from knee to foot\n",
    "real_femur = 9.1 # lenght of 3D printed femur\n",
    "dist_focuspoint_servo_femurtibia = 2.8 # distance from focus point/pivot of the 2 servos in the shoulder"
   ]
  },
  {
   "cell_type": "markdown",
   "metadata": {
    "id": "O07YxZfHWJqu"
   },
   "source": [
    "# Usefull functions"
   ]
  },
  {
   "cell_type": "code",
   "execution_count": null,
   "metadata": {
    "id": "84SamVp7Jaek"
   },
   "outputs": [],
   "source": [
    "def deg2PWM(desire_deg_angle, coefficents):\n",
    "    a, b, c = coefficents\n",
    "    pulse = round((a * desire_deg_angle**2) + (b * desire_deg_angle) + c, 0)\n",
    "    return pulse"
   ]
  },
  {
   "cell_type": "code",
   "execution_count": null,
   "metadata": {
    "id": "6Su4O7e8fEMx"
   },
   "outputs": [],
   "source": [
    "def deg2PWM_set_angles(angles, coefficents_S, coefficents_F, coefficents_T):\n",
    "  angles_PWM = []\n",
    "  for angle in angles:\n",
    "    angles_PWM\n",
    "    angles_PWM.append([deg2PWM(angle[0], coefficents_S), deg2PWM(angle[1], coefficents_F), deg2PWM(angle[2], coefficents_T)])\n",
    "  return angles_PWM"
   ]
  },
  {
   "cell_type": "code",
   "execution_count": null,
   "metadata": {
    "id": "O6r6y09CkNGY"
   },
   "outputs": [],
   "source": [
    "# function that take 3 angls in rad and transform them into deg\n",
    "def rad2deg(rads):\n",
    "  return [rads[0]*180/np.pi, rads[1]*180/np.pi, rads[2]*180/np.pi]\n",
    "def deg2rad(deg):\n",
    "  return deg*np.pi/180"
   ]
  },
  {
   "cell_type": "markdown",
   "metadata": {
    "id": "-VtZmrqMV9TQ"
   },
   "source": [
    "# IK each leg"
   ]
  },
  {
   "cell_type": "markdown",
   "metadata": {
    "id": "LVwcrVzVWrP2"
   },
   "source": [
    "### FR"
   ]
  },
  {
   "cell_type": "code",
   "execution_count": null,
   "metadata": {
    "id": "A3fDyHeYWeb6"
   },
   "outputs": [],
   "source": [
    "def FR_legIK(x,y,z):\n",
    "  D = np.sqrt((z**2 + y**2) - coxa**2)\n",
    "  G = np.sqrt(D**2 + x**2)\n",
    "  knee_angle = np.arccos((G**2 - femur**2 - tibia**2)/(-2*femur*tibia))\n",
    "  shoulder_angle = np.arctan2(x,D) + np.arcsin((tibia * np.sin(knee_angle)) / G)\n",
    "  adjustment = np.arccos((real_femur**2 + femur**2 - dist_focuspoint_servo_femurtibia**2) / (2 * real_femur * femur))\n",
    "  #print(f\"knee_angle: {knee_angle*180/np.pi}\")\n",
    "  #print(f\"shoulder_angle: {shoulder_angle*180/np.pi}\")\n",
    "  #print(f\"coxa: {(np.arctan2(y,z) + np.arctan2(D,coxa))*180/np.pi}\")\n",
    "  #print(f\"adjustment: {adjustment*180/np.pi}\")\n",
    "\n",
    "\n",
    "  coxa_angle = deg2rad(180) - (np.arctan2(y,z) + np.arctan2(D,coxa))\n",
    "  femur_angle = deg2rad(90) - (shoulder_angle + adjustment)\n",
    "  tibia_angle = np.pi - knee_angle + femur_angle + adjustment\n",
    "\n",
    "  return rad2deg([coxa_angle, femur_angle, tibia_angle])"
   ]
  },
  {
   "cell_type": "markdown",
   "metadata": {
    "id": "ZXeihPHkWnpm"
   },
   "source": [
    "### BR"
   ]
  },
  {
   "cell_type": "code",
   "execution_count": null,
   "metadata": {
    "id": "BhRQFTxHWjFw"
   },
   "outputs": [],
   "source": [
    "def BR_legIK(x,y,z):\n",
    "  D = np.sqrt((z**2 + y**2) - coxa**2)\n",
    "  G = np.sqrt(D**2 + x**2)\n",
    "  knee_angle = np.arccos((G**2 - femur**2 - tibia**2)/(-2*femur*tibia))\n",
    "  shoulder_angle = np.arctan2(x,D) + np.arcsin((tibia * np.sin(knee_angle)) / G)\n",
    "  adjustment = np.arccos((real_femur**2 + femur**2 - dist_focuspoint_servo_femurtibia**2) / (2 * real_femur * femur))\n",
    "\n",
    "  coxa_angle = (np.arctan2(y,z) + np.arctan2(D,coxa))\n",
    "  femur_angle = deg2rad(90) - (shoulder_angle + adjustment)\n",
    "  tibia_angle = np.pi - knee_angle + femur_angle + adjustment\n",
    "\n",
    "  return rad2deg([coxa_angle, femur_angle, tibia_angle])"
   ]
  },
  {
   "cell_type": "markdown",
   "metadata": {
    "id": "NaKLHS-oWpYD"
   },
   "source": [
    "### FL"
   ]
  },
  {
   "cell_type": "code",
   "execution_count": null,
   "metadata": {
    "id": "fgaEC4eyWhpT"
   },
   "outputs": [],
   "source": [
    "def FL_legIK(x,y,z):\n",
    "  D = np.sqrt((z**2 + y**2) - coxa**2)\n",
    "  G = np.sqrt(D**2 + x**2)\n",
    "  knee_angle = np.arccos((G**2 - femur**2 - tibia**2)/(-2*femur*tibia))\n",
    "  shoulder_angle = np.arctan2(x,D) + np.arcsin((tibia * np.sin(knee_angle)) / G)\n",
    "  adjustment = np.arccos((real_femur**2 + femur**2 - dist_focuspoint_servo_femurtibia**2) / (2 * real_femur * femur))\n",
    "  #print(f\"knee_angle: {knee_angle*180/np.pi}\")\n",
    "  #print(f\"shoulder_angle: {shoulder_angle*180/np.pi}\")\n",
    "  #print(f\"coxa: {(np.arctan2(y,z) + np.arctan2(D,coxa))*180/np.pi}\")\n",
    "  #print(f\"adjustment: {adjustment*180/np.pi}\")\n",
    "\n",
    "  coxa_angle = (deg2rad(180) - (np.arctan2(y,z) + np.arctan2(D,coxa))) - (2 * ((deg2rad(180) - (np.arctan2(y,z) + np.arctan2(D,coxa)))-deg2rad(90)))\n",
    "  #coxa_angle = (np.arctan2(y,z) + np.arctan2(D,coxa))\n",
    "  femur_angle = (deg2rad(90) - (shoulder_angle + adjustment))\n",
    "  tibia_angle = deg2rad(180) - (np.pi - knee_angle + femur_angle + adjustment)\n",
    "\n",
    "  femur_angle = deg2rad(180) - femur_angle\n",
    "\n",
    "  return rad2deg([coxa_angle, femur_angle, tibia_angle])"
   ]
  },
  {
   "cell_type": "markdown",
   "metadata": {
    "id": "2Wt4M9YtWlwh"
   },
   "source": [
    "### BL"
   ]
  },
  {
   "cell_type": "code",
   "execution_count": null,
   "metadata": {
    "id": "q1flEnLcWkRx"
   },
   "outputs": [],
   "source": [
    "def BL_legIK(x,y,z):\n",
    "  D = np.sqrt((z**2 + y**2) - coxa**2)\n",
    "  G = np.sqrt(D**2 + x**2)\n",
    "  knee_angle = np.arccos((G**2 - femur**2 - tibia**2)/(-2*femur*tibia))\n",
    "  shoulder_angle = np.arctan2(x,D) + np.arcsin((tibia * np.sin(knee_angle)) / G)\n",
    "  adjustment = np.arccos((real_femur**2 + femur**2 - dist_focuspoint_servo_femurtibia**2) / (2 * real_femur * femur))\n",
    "  #print(f\"knee_angle: {knee_angle*180/np.pi}\")\n",
    "  #print(f\"shoulder_angle: {shoulder_angle*180/np.pi}\")\n",
    "  #print(f\"coxa: {(np.arctan2(y,z) + np.arctan2(D,coxa))*180/np.pi}\")\n",
    "  #print(f\"adjustment: {adjustment*180/np.pi}\")\n",
    "\n",
    "  #coxa_angle = (np.arctan2(y,z) + np.arctan2(D,coxa))\n",
    "  coxa_angle = deg2rad(180) - ((deg2rad(180) - (np.arctan2(y,z) + np.arctan2(D,coxa))) - (2 * ((deg2rad(180) - (np.arctan2(y,z) + np.arctan2(D,coxa)))-deg2rad(90))))\n",
    "  femur_angle = deg2rad(90) - (shoulder_angle + adjustment)\n",
    "  tibia_angle = deg2rad(180) - (np.pi - knee_angle + femur_angle + adjustment)\n",
    "  femur_angle = deg2rad(180) - femur_angle\n",
    "\n",
    "  return rad2deg([coxa_angle, femur_angle, tibia_angle])"
   ]
  },
  {
   "cell_type": "markdown",
   "metadata": {
    "id": "FoIgU8FiW58Y"
   },
   "source": [
    "#### Debugging"
   ]
  },
  {
   "cell_type": "code",
   "execution_count": null,
   "metadata": {
    "colab": {
     "base_uri": "https://localhost:8080/"
    },
    "executionInfo": {
     "elapsed": 335,
     "status": "ok",
     "timestamp": 1734528786403,
     "user": {
      "displayName": "Gregorio Giuseppe Orlando",
      "userId": "04449877570505252432"
     },
     "user_tz": -60
    },
    "id": "vPurvgxWPvMG",
    "outputId": "2db31314-c99a-4d39-9a5f-08662f54f71b"
   },
   "outputs": [
    {
     "name": "stdout",
     "output_type": "stream",
     "text": [
      "[60.25832769806414, 144.35613704593928, 54.105678244711875]\n",
      "\n",
      "[119.74167230193585, 35.64386295406073, 125.89432175528812]\n",
      "\n",
      "[60.25832769806414, 35.64386295406073, 125.89432175528812]\n",
      "\n",
      "[119.74167230193585, 144.35613704593928, 54.105678244711875]\n"
     ]
    }
   ],
   "source": [
    "print(FL_legIK(0,-5,15))\n",
    "print()\n",
    "print(FR_legIK(0,-5,15))\n",
    "print()\n",
    "print(BR_legIK(0,-5,15))\n",
    "print()\n",
    "print(BL_legIK(0,-5,15))"
   ]
  },
  {
   "cell_type": "markdown",
   "metadata": {
    "id": "WmJ4ecM0V8Nd"
   },
   "source": [
    "# Compute"
   ]
  },
  {
   "cell_type": "code",
   "execution_count": null,
   "metadata": {
    "id": "xGO9BvA-11ch"
   },
   "outputs": [],
   "source": [
    "targets_FR_BL = [\n",
    "    [0,3,15],[0.5,3,15],[1,3,15],[1.5,3,15],[2,3,15],[2.5,3,15],[3,3,15],[3.5,3,15],[4,3,15],\n",
    "    [4,3,14],[4,3,13],[4,3,12],\n",
    "    [3,3,12],[2,3,12],[1,3,12],[0,3,12],\n",
    "    [0,3,13],[0,3,14]\n",
    "]\n",
    "\n",
    "targets_FL_BR = [\n",
    "    [4,3,15],[4,3,14],[4,3,13],[4,3,12],\n",
    "    [3,3,12],[2,3,12],[1,3,12],[0,3,12],\n",
    "    [0,3,13],[0,3,14],[0,3,15],\n",
    "    [0.5,3,15],[1,3,15],[1.5,3,15],[2,3,15],[2.5,3,15],[3,3,15],[3.5,3,15]\n",
    "]"
   ]
  },
  {
   "cell_type": "code",
   "execution_count": null,
   "metadata": {
    "id": "zf7GM4D9WJX4"
   },
   "outputs": [],
   "source": [
    "targets_FR = targets_FR_BL\n",
    "FR_leg_angles = [FR_legIK(x,y,z) for x,y,z in targets_FR]\n",
    "FR_leg_angles = deg2PWM_set_angles(FR_leg_angles, coefficents_SFR, coefficents_FFR, coefficents_TFR)\n",
    "\n",
    "targets_FL = targets_FL_BR\n",
    "FL_leg_angles = [FL_legIK(x,y,z) for x,y,z in targets_FL]\n",
    "FL_leg_angles = deg2PWM_set_angles(FL_leg_angles, coefficents_SFL, coefficents_FFL, coefficents_TFL)\n",
    "\n",
    "targets_BR = targets_FL_BR\n",
    "BR_leg_angles = [BR_legIK(x,y,z) for x,y,z in targets_BR]\n",
    "BR_leg_angles = deg2PWM_set_angles(BR_leg_angles, coefficents_SBR, coefficents_FBR, coefficents_TBR)\n",
    "\n",
    "targets_BL = targets_FR_BL\n",
    "BL_leg_angles = [BL_legIK(x,y,z) for x,y,z in targets_BL]\n",
    "BL_leg_angles = deg2PWM_set_angles(BL_leg_angles, coefficents_SBL, coefficents_FBL, coefficents_TBL)"
   ]
  },
  {
   "cell_type": "code",
   "execution_count": null,
   "metadata": {
    "colab": {
     "base_uri": "https://localhost:8080/"
    },
    "executionInfo": {
     "elapsed": 11,
     "status": "ok",
     "timestamp": 1734528786404,
     "user": {
      "displayName": "Gregorio Giuseppe Orlando",
      "userId": "04449877570505252432"
     },
     "user_tz": -60
    },
    "id": "VbK8SweIXYDk",
    "outputId": "84c4ebac-735b-47c9-8707-9eab36e67602"
   },
   "outputs": [
    {
     "name": "stdout",
     "output_type": "stream",
     "text": [
      "FR:  [[1278.0, 832.0, 1558.0], [1278.0, 818.0, 1544.0], [1278.0, 804.0, 1529.0], [1278.0, 791.0, 1514.0], [1278.0, 778.0, 1498.0], [1278.0, 767.0, 1482.0], [1278.0, 756.0, 1465.0], [1278.0, 746.0, 1448.0], [1278.0, 737.0, 1430.0], [1278.0, 693.0, 1456.0], [1278.0, 651.0, 1477.0], [1279.0, 610.0, 1494.0], [1279.0, 636.0, 1534.0], [1279.0, 665.0, 1573.0], [1279.0, 697.0, 1611.0], [1279.0, 732.0, 1647.0], [1278.0, 763.0, 1619.0], [1278.0, 796.0, 1590.0]]\n",
      "FL:  [[1260.0, 1837.0, 1054.0], [1259.0, 1880.0, 1029.0], [1259.0, 1921.0, 1008.0], [1259.0, 1962.0, 990.0], [1259.0, 1937.0, 950.0], [1259.0, 1908.0, 911.0], [1259.0, 1876.0, 873.0], [1259.0, 1841.0, 837.0], [1259.0, 1811.0, 864.0], [1259.0, 1778.0, 894.0], [1260.0, 1743.0, 926.0], [1260.0, 1757.0, 940.0], [1260.0, 1771.0, 955.0], [1260.0, 1783.0, 971.0], [1260.0, 1796.0, 986.0], [1260.0, 1807.0, 1003.0], [1260.0, 1818.0, 1020.0], [1260.0, 1828.0, 1037.0]]\n",
      "BR:  [[1254.0, 702.0, 1363.0], [1254.0, 659.0, 1389.0], [1254.0, 619.0, 1410.0], [1254.0, 580.0, 1427.0], [1254.0, 604.0, 1468.0], [1254.0, 632.0, 1507.0], [1254.0, 663.0, 1545.0], [1254.0, 697.0, 1582.0], [1254.0, 727.0, 1554.0], [1254.0, 759.0, 1524.0], [1254.0, 793.0, 1492.0], [1254.0, 779.0, 1477.0], [1254.0, 766.0, 1463.0], [1254.0, 753.0, 1447.0], [1254.0, 741.0, 1431.0], [1254.0, 730.0, 1415.0], [1254.0, 720.0, 1398.0], [1254.0, 710.0, 1381.0]]\n",
      "BL:  [[1282.0, 1760.0, 1033.0], [1282.0, 1775.0, 1047.0], [1282.0, 1789.0, 1063.0], [1282.0, 1802.0, 1079.0], [1282.0, 1814.0, 1095.0], [1282.0, 1826.0, 1112.0], [1282.0, 1836.0, 1130.0], [1282.0, 1846.0, 1148.0], [1282.0, 1855.0, 1166.0], [1282.0, 1899.0, 1140.0], [1283.0, 1941.0, 1118.0], [1283.0, 1982.0, 1099.0], [1283.0, 1957.0, 1057.0], [1283.0, 1928.0, 1017.0], [1283.0, 1896.0, 977.0], [1283.0, 1860.0, 939.0], [1283.0, 1829.0, 968.0], [1282.0, 1796.0, 999.0]]\n",
      "18\n"
     ]
    }
   ],
   "source": [
    "print(\"FR: \", FR_leg_angles)\n",
    "print(\"FL: \", FL_leg_angles)\n",
    "print(\"BR: \", BR_leg_angles)\n",
    "print(\"BL: \", BL_leg_angles)\n",
    "print(len(FR_leg_angles))"
   ]
  },
  {
   "cell_type": "code",
   "execution_count": null,
   "metadata": {
    "colab": {
     "base_uri": "https://localhost:8080/",
     "height": 90
    },
    "executionInfo": {
     "elapsed": 10,
     "status": "ok",
     "timestamp": 1734528786404,
     "user": {
      "displayName": "Gregorio Giuseppe Orlando",
      "userId": "04449877570505252432"
     },
     "user_tz": -60
    },
    "id": "HZJkmh2Ytx7b",
    "outputId": "02452494-21a7-4cb2-8fe4-47e5979619d7"
   },
   "outputs": [
    {
     "data": {
      "application/vnd.google.colaboratory.intrinsic+json": {
       "type": "string"
      },
      "text/plain": [
       "'\\nFR_leg_angles = [[90,90,180]]\\nFR_leg_angles = deg2PWM_set_angles(FR_leg_angles, coefficents_SFR, coefficents_FFR, coefficents_TFR)\\n\\nFL_leg_angles = [[90,90,0]]\\nFL_leg_angles = deg2PWM_set_angles(FL_leg_angles, coefficents_SFL, coefficents_FFL, coefficents_TFL)\\n\\nBR_leg_angles = [[90,90,180]]\\nBR_leg_angles = deg2PWM_set_angles(BR_leg_angles, coefficents_SBR, coefficents_FBR, coefficents_TBR)\\n\\nBL_leg_angles = [[90,90,0]]\\nBL_leg_angles = deg2PWM_set_angles(BL_leg_angles, coefficents_SBL, coefficents_FBL, coefficents_TBL)\\n'"
      ]
     },
     "execution_count": 229,
     "metadata": {},
     "output_type": "execute_result"
    }
   ],
   "source": [
    "'''\n",
    "FR_leg_angles = [[90,90,180]]\n",
    "FR_leg_angles = deg2PWM_set_angles(FR_leg_angles, coefficents_SFR, coefficents_FFR, coefficents_TFR)\n",
    "\n",
    "FL_leg_angles = [[90,90,0]]\n",
    "FL_leg_angles = deg2PWM_set_angles(FL_leg_angles, coefficents_SFL, coefficents_FFL, coefficents_TFL)\n",
    "\n",
    "BR_leg_angles = [[90,90,180]]\n",
    "BR_leg_angles = deg2PWM_set_angles(BR_leg_angles, coefficents_SBR, coefficents_FBR, coefficents_TBR)\n",
    "\n",
    "BL_leg_angles = [[90,90,0]]\n",
    "BL_leg_angles = deg2PWM_set_angles(BL_leg_angles, coefficents_SBL, coefficents_FBL, coefficents_TBL)\n",
    "'''"
   ]
  },
  {
   "cell_type": "markdown",
   "metadata": {
    "id": "3fJEzEQCg4_4"
   },
   "source": [
    "# Parse"
   ]
  },
  {
   "cell_type": "code",
   "execution_count": null,
   "metadata": {
    "colab": {
     "base_uri": "https://localhost:8080/"
    },
    "executionInfo": {
     "elapsed": 8,
     "status": "ok",
     "timestamp": 1734528786404,
     "user": {
      "displayName": "Gregorio Giuseppe Orlando",
      "userId": "04449877570505252432"
     },
     "user_tz": -60
    },
    "id": "sy06kW4ULZyT",
    "outputId": "075f286d-f8ec-4786-9899-2848e210122f"
   },
   "outputs": [
    {
     "name": "stdout",
     "output_type": "stream",
     "text": [
      "{{1278.0, 832.0, 1558.0}, {1278.0, 818.0, 1544.0}, {1278.0, 804.0, 1529.0}, {1278.0, 791.0, 1514.0}, {1278.0, 778.0, 1498.0}, {1278.0, 767.0, 1482.0}, {1278.0, 756.0, 1465.0}, {1278.0, 746.0, 1448.0}, {1278.0, 737.0, 1430.0}, {1278.0, 693.0, 1456.0}, {1278.0, 651.0, 1477.0}, {1279.0, 610.0, 1494.0}, {1279.0, 636.0, 1534.0}, {1279.0, 665.0, 1573.0}, {1279.0, 697.0, 1611.0}, {1279.0, 732.0, 1647.0}, {1278.0, 763.0, 1619.0}, {1278.0, 796.0, 1590.0}};\n",
      "{{1260.0, 1837.0, 1054.0}, {1259.0, 1880.0, 1029.0}, {1259.0, 1921.0, 1008.0}, {1259.0, 1962.0, 990.0}, {1259.0, 1937.0, 950.0}, {1259.0, 1908.0, 911.0}, {1259.0, 1876.0, 873.0}, {1259.0, 1841.0, 837.0}, {1259.0, 1811.0, 864.0}, {1259.0, 1778.0, 894.0}, {1260.0, 1743.0, 926.0}, {1260.0, 1757.0, 940.0}, {1260.0, 1771.0, 955.0}, {1260.0, 1783.0, 971.0}, {1260.0, 1796.0, 986.0}, {1260.0, 1807.0, 1003.0}, {1260.0, 1818.0, 1020.0}, {1260.0, 1828.0, 1037.0}};\n",
      "{{1254.0, 702.0, 1363.0}, {1254.0, 659.0, 1389.0}, {1254.0, 619.0, 1410.0}, {1254.0, 580.0, 1427.0}, {1254.0, 604.0, 1468.0}, {1254.0, 632.0, 1507.0}, {1254.0, 663.0, 1545.0}, {1254.0, 697.0, 1582.0}, {1254.0, 727.0, 1554.0}, {1254.0, 759.0, 1524.0}, {1254.0, 793.0, 1492.0}, {1254.0, 779.0, 1477.0}, {1254.0, 766.0, 1463.0}, {1254.0, 753.0, 1447.0}, {1254.0, 741.0, 1431.0}, {1254.0, 730.0, 1415.0}, {1254.0, 720.0, 1398.0}, {1254.0, 710.0, 1381.0}};\n",
      "{{1282.0, 1760.0, 1033.0}, {1282.0, 1775.0, 1047.0}, {1282.0, 1789.0, 1063.0}, {1282.0, 1802.0, 1079.0}, {1282.0, 1814.0, 1095.0}, {1282.0, 1826.0, 1112.0}, {1282.0, 1836.0, 1130.0}, {1282.0, 1846.0, 1148.0}, {1282.0, 1855.0, 1166.0}, {1282.0, 1899.0, 1140.0}, {1283.0, 1941.0, 1118.0}, {1283.0, 1982.0, 1099.0}, {1283.0, 1957.0, 1057.0}, {1283.0, 1928.0, 1017.0}, {1283.0, 1896.0, 977.0}, {1283.0, 1860.0, 939.0}, {1283.0, 1829.0, 968.0}, {1282.0, 1796.0, 999.0}};\n"
     ]
    }
   ],
   "source": [
    "formatted_output1 = '{' + ', '.join(f'{{{\", \".join(map(str, row))}}}' for row in FR_leg_angles) + '};'\n",
    "formatted_output2 = '{' + ', '.join(f'{{{\", \".join(map(str, row))}}}' for row in FL_leg_angles) + '};'\n",
    "formatted_output3 = '{' + ', '.join(f'{{{\", \".join(map(str, row))}}}' for row in BR_leg_angles) + '};'\n",
    "formatted_output4 = '{' + ', '.join(f'{{{\", \".join(map(str, row))}}}' for row in BL_leg_angles) + '};'\n",
    "\n",
    "print(formatted_output1)\n",
    "print(formatted_output2)\n",
    "print(formatted_output3)\n",
    "print(formatted_output4)"
   ]
  }
 ],
 "metadata": {
  "colab": {
   "authorship_tag": "ABX9TyOBAkoqIkD0lvsABu6ZKxaV",
   "collapsed_sections": [
    "Bmb6GCWDUs2o",
    "taDpPQk9UwQI",
    "O07YxZfHWJqu"
   ],
   "provenance": []
  },
  "kernelspec": {
   "display_name": "Python 3",
   "name": "python3"
  },
  "language_info": {
   "name": "python"
  }
 },
 "nbformat": 4,
 "nbformat_minor": 0
}
